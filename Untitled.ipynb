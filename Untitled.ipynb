{
 "cells": [
  {
   "cell_type": "markdown",
   "id": "2a45cff2-c1c2-4762-ab32-6657aec1f012",
   "metadata": {},
   "source": [
    "# LLM Serving from the First Principles\n",
    "\n",
    "You can code along the presenter or just run the cells\n",
    "* To move to the next step run `jj next` in the terminal\n",
    "* To move back to the previous step, run `jj prev`"
   ]
  },
  {
   "cell_type": "markdown",
   "id": "df818f0d-7238-40eb-be4e-bbd4ce8e9c6e",
   "metadata": {},
   "source": [
    "## Step 5: improving performance\n",
    "\n",
    "We'll try three techniques for improving LLM serving performance:\n",
    "- Running the model on GPU\n",
    "- Using smaller weights\n",
    "- using inference mode"
   ]
  },
  {
   "cell_type": "code",
   "execution_count": null,
   "id": "90fcdb07-c884-4633-8afc-fcfcb17a88ea",
   "metadata": {},
   "outputs": [],
   "source": [
    "import torch"
   ]
  },
  {
   "cell_type": "code",
   "execution_count": null,
   "id": "4602de51-9204-4dbd-a6a9-42481bb26829",
   "metadata": {},
   "outputs": [],
   "source": [
    "from transformers import GemmaTokenizer, Gemma3ForCausalLM\n",
    "\n",
    "checkpoint = 'google/gemma-3-1b-it'\n",
    "TOKENIZER = GemmaTokenizer.from_pretrained(f'checkpoints/{checkpoint}')\n",
    "MODEL = Gemma3ForCausalLM.from_pretrained(f'checkpoints/{checkpoint}').eval()\n",
    "MODEL.generation_config.max_new_tokens = 256\n",
    "PROMPT_FORMAT = \"<start_of_turn>user\\n{prompt}<end_of_turn>\\n<start_of_turn>model\\n\""
   ]
  },
  {
   "cell_type": "code",
   "execution_count": null,
   "id": "caf3c277-58af-4855-bec3-9bb5dd603d8b",
   "metadata": {},
   "outputs": [],
   "source": [
    "from fastapi import FastAPI\n",
    "from pydantic import BaseModel\n",
    "\n",
    "class Query(BaseModel):\n",
    "    prompt: str\n",
    "\n",
    "app = FastAPI()"
   ]
  },
  {
   "cell_type": "code",
   "execution_count": null,
   "id": "384ac9d0-d360-445a-b483-be1b95a05651",
   "metadata": {},
   "outputs": [],
   "source": [
    "import time\n",
    "\n",
    "@app.post(\"/infer\")\n",
    "def inference(query: Query):\n",
    "    since = time.time()\n",
    "    token_ids = TOKENIZER.encode(PROMPT_FORMAT.format(prompt=query.prompt))\n",
    "    token_ids_tensor = torch.tensor([token_ids])\n",
    "    model_outputs = MODEL.generate(token_ids_tensor)\n",
    "    decoded_text = TOKENIZER.decode(model_outputs[0])\n",
    "    latency = time.time() - since\n",
    "    return {\"response\": decoded_text, \"metrics\": {\"latency\": latency, \"tokens_count\": model_outputs.shape[1], \"tokens_per_second\": model_outputs.shape[1]/latency}}"
   ]
  },
  {
   "cell_type": "code",
   "execution_count": null,
   "id": "8f0d1d50-0584-4d20-9161-d11b9b632c3d",
   "metadata": {},
   "outputs": [],
   "source": [
    "import uvicorn\n",
    "\n",
    "config = uvicorn.Config(app, host=\"0.0.0.0\")\n",
    "server = uvicorn.Server(config)\n",
    "await server.serve()"
   ]
  }
 ],
 "metadata": {
  "kernelspec": {
   "display_name": "Python 3 (ipykernel)",
   "language": "python",
   "name": "python3"
  },
  "language_info": {
   "codemirror_mode": {
    "name": "ipython",
    "version": 3
   },
   "file_extension": ".py",
   "mimetype": "text/x-python",
   "name": "python",
   "nbconvert_exporter": "python",
   "pygments_lexer": "ipython3",
   "version": "3.12.8"
  }
 },
 "nbformat": 4,
 "nbformat_minor": 5
}
