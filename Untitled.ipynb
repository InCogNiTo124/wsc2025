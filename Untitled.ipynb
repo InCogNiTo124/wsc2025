{
 "cells": [
  {
   "cell_type": "markdown",
   "id": "2a45cff2-c1c2-4762-ab32-6657aec1f012",
   "metadata": {},
   "source": [
    "# LLM Serving from the First Principles\n",
    "\n",
    "You can code along the presenter or just run the cells\n",
    "* To move to the next step run `jj next` in the terminal\n",
    "* To move back to the previous step, run `jj prev`"
   ]
  },
  {
   "cell_type": "markdown",
   "id": "df818f0d-7238-40eb-be4e-bbd4ce8e9c6e",
   "metadata": {},
   "source": [
    "## Step 1: inference function\n",
    "\n",
    "We're going to build a function to run the inference for a given prompt"
   ]
  },
  {
   "cell_type": "code",
   "execution_count": null,
   "id": "90fcdb07-c884-4633-8afc-fcfcb17a88ea",
   "metadata": {},
   "outputs": [],
   "source": [
    "import torch"
   ]
  },
  {
   "cell_type": "code",
   "execution_count": null,
   "id": "4602de51-9204-4dbd-a6a9-42481bb26829",
   "metadata": {},
   "outputs": [],
   "source": [
    "from transformers import GemmaTokenizer, Gemma3ForCausalLM\n",
    "\n",
    "checkpoint = 'google/gemma-3-1b-it'\n",
    "TOKENIZER = GemmaTokenizer.from_pretrained(f'checkpoints/{checkpoint}')\n",
    "MODEL = Gemma3ForCausalLM.from_pretrained(f'checkpoints/{checkpoint}').eval()"
   ]
  },
  {
   "cell_type": "code",
   "execution_count": null,
   "id": "384ac9d0-d360-445a-b483-be1b95a05651",
   "metadata": {},
   "outputs": [],
   "source": [
    "def inference(prompt):\n",
    "    ..."
   ]
  },
  {
   "cell_type": "code",
   "execution_count": null,
   "id": "1c0c9008-1fe4-4e1a-b0e6-cef864641aee",
   "metadata": {},
   "outputs": [],
   "source": [
    "prompt = \"What is 2^7-2^2?\""
   ]
  }
 ],
 "metadata": {
  "kernelspec": {
   "display_name": "Python 3 (ipykernel)",
   "language": "python",
   "name": "python3"
  },
  "language_info": {
   "codemirror_mode": {
    "name": "ipython",
    "version": 3
   },
   "file_extension": ".py",
   "mimetype": "text/x-python",
   "name": "python",
   "nbconvert_exporter": "python",
   "pygments_lexer": "ipython3",
   "version": "3.12.8"
  }
 },
 "nbformat": 4,
 "nbformat_minor": 5
}
